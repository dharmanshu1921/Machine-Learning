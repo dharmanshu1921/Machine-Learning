{
  "nbformat": 4,
  "nbformat_minor": 0,
  "metadata": {
    "colab": {
      "provenance": []
    },
    "kernelspec": {
      "name": "python3",
      "display_name": "Python 3"
    },
    "language_info": {
      "name": "python"
    }
  },
  "cells": [
    {
      "cell_type": "markdown",
      "source": [
        "# K-means Clustering\n",
        "\n",
        "A fundamental step for any unsupervised algorithm is to determine the optimal number of clusters into which the data may be clustered. \n",
        "The **Elbow Method** is one of the most popular methods to determine this optimal value of k."
      ],
      "metadata": {
        "id": "LiJcESkjLFBW"
      }
    },
    {
      "cell_type": "markdown",
      "source": [
        "## Import Libraries"
      ],
      "metadata": {
        "id": "XfR_I129LVYa"
      }
    },
    {
      "cell_type": "code",
      "execution_count": 1,
      "metadata": {
        "id": "QesOF_JpEGvf"
      },
      "outputs": [],
      "source": [
        "from sklearn.cluster import KMeans\n",
        "from sklearn import metrics\n",
        "from scipy.spatial.distance import cdist\n",
        "import numpy as np\n",
        "import matplotlib.pyplot as plt"
      ]
    },
    {
      "cell_type": "markdown",
      "source": [
        "# Creating Synthetic Data"
      ],
      "metadata": {
        "id": "j_j_wfDaHxg-"
      }
    },
    {
      "cell_type": "code",
      "source": [
        "# Creating the data\n",
        "x1 = np.array([3, 1, 1, 2, 1, 6, 6, 6, 5, 6, 7, 8, 9, 8, 9, 9, 8])\n",
        "x2 = np.array([5, 4, 5, 6, 5, 8, 6, 7, 6, 7, 1, 2, 1, 2, 3, 2, 3])\n",
        "X = np.array(list(zip(x1, x2))).reshape(len(x1), 2)\n",
        "  "
      ],
      "metadata": {
        "id": "LzXBUZMkEIVE"
      },
      "execution_count": 9,
      "outputs": []
    },
    {
      "cell_type": "markdown",
      "source": [
        "# Visualizing the Data"
      ],
      "metadata": {
        "id": "B4uDnheTHqdQ"
      }
    },
    {
      "cell_type": "code",
      "source": [
        "# Visualizing the data\n",
        "plt.plot()\n",
        "plt.xlim([0, 10])\n",
        "plt.ylim([0, 10])\n",
        "plt.title('Dataset')\n",
        "plt.scatter(x1, x2)\n",
        "plt.show()"
      ],
      "metadata": {
        "colab": {
          "base_uri": "https://localhost:8080/",
          "height": 281
        },
        "id": "lfCbNKnPHvWj",
        "outputId": "0d4d4c89-34cc-4a6f-dd96-bca27cab79ec"
      },
      "execution_count": 10,
      "outputs": [
        {
          "output_type": "display_data",
          "data": {
            "text/plain": [
              "<Figure size 432x288 with 1 Axes>"
            ],
            "image/png": "[encoded data removed]"
          },
          "metadata": {
            "needs_background": "light"
          }
        }
      ]
    },
    {
      "cell_type": "markdown",
      "source": [
        "## Elbow Method\n",
        "\n",
        "To determine the optimal number of clusters, we have to select the value of k at the “elbow” ie the point after which the distortion/inertia start decreasing in a linear fashion. \n",
        "\n",
        "**Distortion:** It is calculated as the average of the squared distances from the cluster centers of the respective clusters. Typically, the Euclidean distance metric is used.\n",
        "\n",
        "**Inertia:** It is the sum of squared distances of samples to their closest cluster center.\n",
        "\n",
        "We iterate the values of k from 1 to 9 and calculate the values of distortions for each value of k and calculate the distortion and inertia for each value of k in the given range."
      ],
      "metadata": {
        "id": "cR7E3RO2G-xv"
      }
    },
    {
      "cell_type": "markdown",
      "source": [
        "## Using the different values of Distortion"
      ],
      "metadata": {
        "id": "0OwBASaEHLXd"
      }
    },
    {
      "cell_type": "code",
      "source": [
        "distortions = []\n",
        "inertias = []\n",
        "mapping1 = {}\n",
        "mapping2 = {}\n",
        "K = range(1, 10)\n",
        "  \n",
        "for k in K:\n",
        "    # Building and fitting the model\n",
        "    kmeanModel = KMeans(n_clusters=k).fit(X)\n",
        "    kmeanModel.fit(X)\n",
        "  \n",
        "    distortions.append(sum(np.min(cdist(X, kmeanModel.cluster_centers_,\n",
        "                                        'euclidean'), axis=1)) / X.shape[0])\n",
        "    inertias.append(kmeanModel.inertia_)\n",
        "  \n",
        "    mapping1[k] = sum(np.min(cdist(X, kmeanModel.cluster_centers_,\n",
        "                                   'euclidean'), axis=1)) / X.shape[0]\n",
        "    mapping2[k] = kmeanModel.inertia_"
      ],
      "metadata": {
        "id": "ZnK2x2ufFmlp"
      },
      "execution_count": 4,
      "outputs": []
    },
    {
      "cell_type": "code",
      "source": [
        "for key, val in mapping1.items():\n",
        "    print(f'{key} : {val}')"
      ],
      "metadata": {
        "colab": {
          "base_uri": "https://localhost:8080/"
        },
        "id": "6vCr1WUZEIa6",
        "outputId": "a4a59bb9-d295-4c91-f411-58e809c7a352"
      },
      "execution_count": 5,
      "outputs": [
        {
          "output_type": "stream",
          "name": "stdout",
          "text": [
            "1 : 3.4577032384495707\n",
            "2 : 1.7687413573405673\n",
            "3 : 0.8819889697423957\n",
            "4 : 0.7587138847606585\n",
            "5 : 0.6872918402957646\n",
            "6 : 0.6178235133263348\n",
            "7 : 0.5274410771884641\n",
            "8 : 0.42618267462691206\n",
            "9 : 0.3333333333333333\n"
          ]
        }
      ]
    },
    {
      "cell_type": "code",
      "source": [
        "plt.plot(K, distortions, 'bx-')\n",
        "plt.xlabel('Values of K')\n",
        "plt.ylabel('Distortion')\n",
        "plt.title('The Elbow Method using Distortion')\n",
        "plt.show()"
      ],
      "metadata": {
        "colab": {
          "base_uri": "https://localhost:8080/",
          "height": 295
        },
        "id": "J-KeQ4aKFyMd",
        "outputId": "99c298fb-8c84-438b-8a49-b221d03536f7"
      },
      "execution_count": 6,
      "outputs": [
        {
          "output_type": "display_data",
          "data": {
            "text/plain": [
              "<Figure size 432x288 with 1 Axes>"
            ],
            "image/png": "[encoded data removed]"
          },
          "metadata": {
            "needs_background": "light"
          }
        }
      ]
    },
    {
      "cell_type": "markdown",
      "source": [
        "Thus for the given data, we conclude that the optimal number of clusters for the data is 3."
      ],
      "metadata": {
        "id": "DSCmgFbAHegN"
      }
    },
    {
      "cell_type": "markdown",
      "source": [
        "##  Using the different values of Inertia"
      ],
      "metadata": {
        "id": "P-UvC1-GGCih"
      }
    },
    {
      "cell_type": "code",
      "source": [
        "for key, val in mapping2.items():\n",
        "    print(f'{key} : {val}')"
      ],
      "metadata": {
        "colab": {
          "base_uri": "https://localhost:8080/"
        },
        "id": "-Yg1MWJhFv9p",
        "outputId": "54eeaca9-f6a4-4c88-894a-43c9d623367a"
      },
      "execution_count": 7,
      "outputs": [
        {
          "output_type": "stream",
          "name": "stdout",
          "text": [
            "1 : 217.64705882352942\n",
            "2 : 68.42857142857142\n",
            "3 : 16.22857142857143\n",
            "4 : 12.695238095238098\n",
            "5 : 9.600000000000001\n",
            "6 : 7.233333333333333\n",
            "7 : 5.166666666666666\n",
            "8 : 4.083333333333333\n",
            "9 : 2.8333333333333335\n"
          ]
        }
      ]
    },
    {
      "cell_type": "code",
      "source": [
        "plt.plot(K, inertias, 'bx-')\n",
        "plt.xlabel('Values of K')\n",
        "plt.ylabel('Inertia')\n",
        "plt.title('The Elbow Method using Inertia')\n",
        "plt.show()"
      ],
      "metadata": {
        "colab": {
          "base_uri": "https://localhost:8080/",
          "height": 295
        },
        "id": "zF7S5RcEGHKe",
        "outputId": "b46c998a-f4dc-40d7-e589-c29dc657552f"
      },
      "execution_count": 8,
      "outputs": [
        {
          "output_type": "display_data",
          "data": {
            "text/plain": [
              "<Figure size 432x288 with 1 Axes>"
            ],
            "image/png": "[encoded data removed]"
          },
          "metadata": {
            "needs_background": "light"
          }
        }
      ]
    },
    {
      "cell_type": "markdown",
      "source": [
        "Thus for the given data, we conclude that the optimal number of clusters for the data is 3."
      ],
      "metadata": {
        "id": "XWjvSBiPHhpq"
      }
    }
  ]
}